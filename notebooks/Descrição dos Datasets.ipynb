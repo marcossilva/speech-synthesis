{
 "cells": [
  {
   "cell_type": "code",
   "execution_count": 1,
   "metadata": {
    "ExecuteTime": {
     "end_time": "2019-02-28T06:53:34.768306Z",
     "start_time": "2019-02-28T06:53:34.759369Z"
    }
   },
   "outputs": [],
   "source": [
    "%config c.use_jedi = False"
   ]
  },
  {
   "cell_type": "code",
   "execution_count": 2,
   "metadata": {
    "ExecuteTime": {
     "end_time": "2019-02-28T06:53:36.757171Z",
     "start_time": "2019-02-28T06:53:35.764402Z"
    }
   },
   "outputs": [
    {
     "data": {
      "text/html": [
       "<script type=\"text/javascript\">window.PlotlyConfig = {MathJaxConfig: 'local'};</script><script type=\"text/javascript\">if (window.MathJax) {MathJax.Hub.Config({SVG: {font: \"STIX-Web\"}});}</script><script>requirejs.config({paths: { 'plotly': ['https://cdn.plot.ly/plotly-latest.min']},});if(!window._Plotly) {require(['plotly'],function(plotly) {window._Plotly=plotly;});}</script>"
      ],
      "text/vnd.plotly.v1+html": [
       "<script type=\"text/javascript\">window.PlotlyConfig = {MathJaxConfig: 'local'};</script><script type=\"text/javascript\">if (window.MathJax) {MathJax.Hub.Config({SVG: {font: \"STIX-Web\"}});}</script><script>requirejs.config({paths: { 'plotly': ['https://cdn.plot.ly/plotly-latest.min']},});if(!window._Plotly) {require(['plotly'],function(plotly) {window._Plotly=plotly;});}</script>"
      ]
     },
     "metadata": {},
     "output_type": "display_data"
    }
   ],
   "source": [
    "import pandas as pd\n",
    "import numpy as np\n",
    "import plotly.offline as py\n",
    "import plotly.graph_objs as go\n",
    "py.init_notebook_mode(connected=True)"
   ]
  },
  {
   "cell_type": "code",
   "execution_count": null,
   "metadata": {},
   "outputs": [],
   "source": [
    "import glob, os\n",
    "from io import StringIO\n",
    "import collections, numpy\n",
    "import pandas as pd\n",
    "import numpy as np\n",
    "import plotly.graph_objs as go\n",
    "\n",
    "def get_words(x):\n",
    "\ttemp_result = x.split('\\t\\t')[0]\n",
    "\tif temp_result.find('\\t') > -1:\n",
    "\t\t\ttemp_result = x.split('\\t')[0]\n",
    "\tif temp_result.find(' ') > -1:\n",
    "\t\t\ttemp_result = x.split()[0]\n",
    "\treturn temp_result\n",
    "def get_phonemes(x):\n",
    "\ttemp_result = \"\"\n",
    "\tif x.find('\\t\\t') > -1:\n",
    "\t\t\ttemp_result = x.split('\\t\\t')[1]\n",
    "\tif (temp_result.find('\\t') > -1) or (len(temp_result) == 0 and x.find('\\t') > -1):\n",
    "\t\t\ttemp_result = x.split('\\t')[1]\n",
    "\tif (temp_result.find(' ') > -1) or (len(temp_result) == 0 and x.find(' ') > -1):\n",
    "\t\t\ttemp_result = x.split()[1:]\n",
    "\treturn temp_result\n",
    "\t\n",
    "def process_data(name, normalized=True, reference_dict=None):\n",
    "\tperdas = 0\n",
    "\tif name == 'cmu':\n",
    "\t\tdf = pd.read_csv('../data/external/cmudict.dict', sep='\\t', header=None, names=['lines'])\n",
    "\t\tdf.lines = df.lines.str.replace('\\d', '') #Dígitos representam apenas entonação https://en.wikipedia.org/wiki/ARPABET\n",
    "\t\tdf['words'] = df.lines.str.split().str[0]\n",
    "\t\tdf['phonemes']  = df.lines.str.split().str[1:]\n",
    "\t\tdf = df.drop(labels=df[df.lines.str.contains('#')].index).reset_index(drop=True)\n",
    "\tif name == 'dict_br':\n",
    "\t\tdf = pd.read_csv('../data/external/dictionary.dic', sep=';', header=None, names=['lines'])\n",
    "\t\tdf.lines = df.lines.str.replace('sp$', '').str.replace('sp $', '')\n",
    "\t\tdf = (\n",
    "\t\t\t\tdf\n",
    "\t\t\t\t.drop(labels=df[df.lines.str.contains('\\[\\]')].index)\n",
    "\t\t\t\t.reset_index(drop=True)\n",
    "\t\t)\n",
    "\t\tdf['words'] = df.lines.apply(get_words)\n",
    "\t\tdf['phonemes'] = df.lines.apply(get_phonemes)\n",
    "\t\tdf = (\n",
    "\t\t\tdf\n",
    "\t\t\t.drop(labels=df[df.phonemes.apply(lambda x : 'sil' in x)].index)\n",
    "\t\t\t.reset_index(drop=True)\n",
    "\t\t)\n",
    "\tif name == 'laps' or 'const' or 'cell':\n",
    "\t\tmyBigString = \"\"\n",
    "\t\tif name == 'laps':\n",
    "\t\t\tfor file in glob.glob(\"../data/external/LapsBM1.4/*/*.txt\", recursive=True):\n",
    "\t\t\t\tmyBigString += open(file).read() + ' '\n",
    "\t\tif name == 'const':\n",
    "\t\t\tfor file in glob.glob(\"../data/external/constituicaoBR/*.txt\", recursive=True):\n",
    "\t\t\t\tmyBigString += open(file).read() + ' '\n",
    "\t\tif name == 'cell':\n",
    "\t\t\timport pysrt\n",
    "\t\t\tfor file in glob.glob(\"../data/external/Cellbit/originals/*.srt\", recursive=True):\n",
    "\t\t\t\tsubs = pysrt.open(file)\n",
    "\t\t\t\tmyBigString += subs.text\n",
    "\t\t\tmyBigString = myBigString.replace('\\n', '').lower()\n",
    "\t\tt = collections.Counter(numpy.array(myBigString.split()))\n",
    "\t\tdel myBigString #save memory\n",
    "\t\tdf = pd.DataFrame(list(zip(t.keys(), t.values())), columns=['words', 'ocorrencias'])\n",
    "\t\ttry:\n",
    "\t\t\tantes = len(df)\n",
    "\t\t\tdf = df.merge(reference_dict, on='words')\n",
    "\t\t\tdepois = len(df)\n",
    "\t\t\tperdas = 1.0 - (depois/antes)\n",
    "\t\texcept:\n",
    "\t\t\traise Exception('Deve definir um dicionário para processar')\n",
    "\t\tdf.phonemes = df.phonemes * df.ocorrencias #multiplica as ocorrencias\n",
    "\n",
    "\n",
    "\n",
    "\tunique, counts = np.unique(\n",
    "\t\t\tnp.hstack(\n",
    "\t\t\t\t\tdf.phonemes.values\n",
    "\t\t\t),\n",
    "\t\t\treturn_counts=True)\n",
    "\n",
    "\tphonemes = pd.DataFrame(list(zip(unique, counts)), columns=['phoneme', 'cmu_dict'])\n",
    "\t\n",
    "\tif name == 'cmu':\n",
    "\t\tphonemes = (\n",
    "\t\t\t\tphonemes\n",
    "\t\t\t\t.merge(conversor, left_on='phoneme', right_on='two_letter')\n",
    "\t\t\t\t.sort_values(by='cmu_dict', ascending=False)\n",
    "\t\t)\n",
    "\telse:\n",
    "\t\tphonemes = (\n",
    "\t    phonemes\n",
    "\t    .merge(conversor.drop_duplicates(subset='one_letter'),left_on='phoneme', right_on='one_letter')\n",
    "\t    .sort_values(by='cmu_dict', ascending=False)\n",
    "\t    )\n",
    "\n",
    "\tdata = go.Bar(\n",
    "\t\t\t\t\t\tx=phonemes.ipa,\n",
    "\t\t\t\t\t\ty=(\n",
    "\t\t\t\t\t\t\t\t100 *\n",
    "\t\t\t\t\t\t\t\tphonemes.cmu_dict / \n",
    "\t\t\t\t\t\t\t\tphonemes.cmu_dict.sum()\n",
    "\t\t\t\t\t\t) if normalized else phonemes.cmu_dict,\n",
    "\t\t\t\t\t\tname=name\n",
    "\t\t\t)\n",
    "\n",
    "\treturn df, phonemes, data, perdas\n"
   ]
  },
  {
   "cell_type": "markdown",
   "metadata": {
    "heading_collapsed": true
   },
   "source": [
    "## Descrição CMU"
   ]
  },
  {
   "cell_type": "code",
   "execution_count": 4,
   "metadata": {
    "ExecuteTime": {
     "end_time": "2019-02-25T17:11:51.747043Z",
     "start_time": "2019-02-25T17:11:50.983626Z"
    },
    "hidden": true
   },
   "outputs": [],
   "source": [
    "df = pd.read_csv('../data/external/cmudict.dict', sep='\\t', header=None, names=['lines'])\n",
    "df.lines = df.lines.str.replace('\\d', '') #Dígitos representam apenas entonação https://en.wikipedia.org/wiki/ARPABET\n",
    "df['words'] = df.lines.str.split().str[0]\n",
    "df['phonemes']  = df.lines.str.split().str[1:]\n",
    "df = df.drop(labels=df[df.lines.str.contains('#')].index).reset_index(drop=True)"
   ]
  },
  {
   "cell_type": "code",
   "execution_count": 10,
   "metadata": {
    "ExecuteTime": {
     "end_time": "2019-02-25T17:15:03.330716Z",
     "start_time": "2019-02-25T17:15:03.243800Z"
    },
    "hidden": true
   },
   "outputs": [
    {
     "data": {
      "text/html": [
       "<div>\n",
       "<style scoped>\n",
       "    .dataframe tbody tr th:only-of-type {\n",
       "        vertical-align: middle;\n",
       "    }\n",
       "\n",
       "    .dataframe tbody tr th {\n",
       "        vertical-align: top;\n",
       "    }\n",
       "\n",
       "    .dataframe thead th {\n",
       "        text-align: right;\n",
       "    }\n",
       "</style>\n",
       "<table border=\"1\" class=\"dataframe\">\n",
       "  <thead>\n",
       "    <tr style=\"text-align: right;\">\n",
       "      <th></th>\n",
       "      <th>word_len</th>\n",
       "      <th>phonemes_len</th>\n",
       "    </tr>\n",
       "  </thead>\n",
       "  <tbody>\n",
       "    <tr>\n",
       "      <th>count</th>\n",
       "      <td>135083.000000</td>\n",
       "      <td>135083.000000</td>\n",
       "    </tr>\n",
       "    <tr>\n",
       "      <th>mean</th>\n",
       "      <td>7.662622</td>\n",
       "      <td>6.384652</td>\n",
       "    </tr>\n",
       "    <tr>\n",
       "      <th>std</th>\n",
       "      <td>2.383080</td>\n",
       "      <td>2.136503</td>\n",
       "    </tr>\n",
       "    <tr>\n",
       "      <th>min</th>\n",
       "      <td>1.000000</td>\n",
       "      <td>1.000000</td>\n",
       "    </tr>\n",
       "    <tr>\n",
       "      <th>25%</th>\n",
       "      <td>6.000000</td>\n",
       "      <td>5.000000</td>\n",
       "    </tr>\n",
       "    <tr>\n",
       "      <th>50%</th>\n",
       "      <td>7.000000</td>\n",
       "      <td>6.000000</td>\n",
       "    </tr>\n",
       "    <tr>\n",
       "      <th>75%</th>\n",
       "      <td>9.000000</td>\n",
       "      <td>8.000000</td>\n",
       "    </tr>\n",
       "    <tr>\n",
       "      <th>max</th>\n",
       "      <td>28.000000</td>\n",
       "      <td>28.000000</td>\n",
       "    </tr>\n",
       "  </tbody>\n",
       "</table>\n",
       "</div>"
      ],
      "text/plain": [
       "            word_len   phonemes_len\n",
       "count  135083.000000  135083.000000\n",
       "mean        7.662622       6.384652\n",
       "std         2.383080       2.136503\n",
       "min         1.000000       1.000000\n",
       "25%         6.000000       5.000000\n",
       "50%         7.000000       6.000000\n",
       "75%         9.000000       8.000000\n",
       "max        28.000000      28.000000"
      ]
     },
     "execution_count": 10,
     "metadata": {},
     "output_type": "execute_result"
    }
   ],
   "source": [
    "(\n",
    "    df\n",
    "    .assign(word_len = df.words.apply(len), phonemes_len = df.phonemes.apply(len))\n",
    "    .describe()\n",
    ")"
   ]
  },
  {
   "cell_type": "markdown",
   "metadata": {
    "heading_collapsed": true
   },
   "source": [
    "## Descrição Dict_BR"
   ]
  },
  {
   "cell_type": "code",
   "execution_count": 13,
   "metadata": {
    "ExecuteTime": {
     "end_time": "2019-02-25T17:16:08.750115Z",
     "start_time": "2019-02-25T17:16:08.374114Z"
    },
    "hidden": true
   },
   "outputs": [],
   "source": [
    "def get_words(x):\n",
    "\ttemp_result = x.split('\\t\\t')[0]\n",
    "\tif temp_result.find('\\t') > -1:\n",
    "\t\t\ttemp_result = x.split('\\t')[0]\n",
    "\tif temp_result.find(' ') > -1:\n",
    "\t\t\ttemp_result = x.split()[0]\n",
    "\treturn temp_result\n",
    "\n",
    "def get_phonemes(x):\n",
    "\ttemp_result = \"\"\n",
    "\tif x.find('\\t\\t') > -1:\n",
    "\t\t\ttemp_result = x.split('\\t\\t')[1]\n",
    "\tif (temp_result.find('\\t') > -1) or (len(temp_result) == 0 and x.find('\\t') > -1):\n",
    "\t\t\ttemp_result = x.split('\\t')[1]\n",
    "\tif (temp_result.find(' ') > -1) or (len(temp_result) == 0 and x.find(' ') > -1):\n",
    "\t\t\ttemp_result = x.split()[1:]\n",
    "\treturn temp_result\n",
    "df = pd.read_csv('../data/external/dictionary.dic', sep=';', header=None, names=['lines'])\n",
    "df.lines = df.lines.str.replace('sp$', '').str.replace('sp $', '')\n",
    "df = (\n",
    "        df\n",
    "        .drop(labels=df[df.lines.str.contains('\\[\\]')].index)\n",
    "        .reset_index(drop=True)\n",
    ")\n",
    "df['words'] = df.lines.apply(get_words)\n",
    "df['phonemes'] = df.lines.apply(get_phonemes)\n",
    "df = (\n",
    "    df\n",
    "    .drop(labels=df[df.phonemes.apply(lambda x : 'sil' in x)].index)\n",
    "    .reset_index(drop=True)\n",
    ")"
   ]
  },
  {
   "cell_type": "code",
   "execution_count": 15,
   "metadata": {
    "ExecuteTime": {
     "end_time": "2019-02-25T17:16:18.216553Z",
     "start_time": "2019-02-25T17:16:18.167817Z"
    },
    "hidden": true
   },
   "outputs": [
    {
     "data": {
      "text/html": [
       "<div>\n",
       "<style scoped>\n",
       "    .dataframe tbody tr th:only-of-type {\n",
       "        vertical-align: middle;\n",
       "    }\n",
       "\n",
       "    .dataframe tbody tr th {\n",
       "        vertical-align: top;\n",
       "    }\n",
       "\n",
       "    .dataframe thead th {\n",
       "        text-align: right;\n",
       "    }\n",
       "</style>\n",
       "<table border=\"1\" class=\"dataframe\">\n",
       "  <thead>\n",
       "    <tr style=\"text-align: right;\">\n",
       "      <th></th>\n",
       "      <th>word_len</th>\n",
       "      <th>phonemes_len</th>\n",
       "    </tr>\n",
       "  </thead>\n",
       "  <tbody>\n",
       "    <tr>\n",
       "      <th>count</th>\n",
       "      <td>65318.000000</td>\n",
       "      <td>65318.000000</td>\n",
       "    </tr>\n",
       "    <tr>\n",
       "      <th>mean</th>\n",
       "      <td>7.914189</td>\n",
       "      <td>7.372838</td>\n",
       "    </tr>\n",
       "    <tr>\n",
       "      <th>std</th>\n",
       "      <td>2.590464</td>\n",
       "      <td>2.443116</td>\n",
       "    </tr>\n",
       "    <tr>\n",
       "      <th>min</th>\n",
       "      <td>1.000000</td>\n",
       "      <td>1.000000</td>\n",
       "    </tr>\n",
       "    <tr>\n",
       "      <th>25%</th>\n",
       "      <td>6.000000</td>\n",
       "      <td>6.000000</td>\n",
       "    </tr>\n",
       "    <tr>\n",
       "      <th>50%</th>\n",
       "      <td>8.000000</td>\n",
       "      <td>7.000000</td>\n",
       "    </tr>\n",
       "    <tr>\n",
       "      <th>75%</th>\n",
       "      <td>10.000000</td>\n",
       "      <td>9.000000</td>\n",
       "    </tr>\n",
       "    <tr>\n",
       "      <th>max</th>\n",
       "      <td>23.000000</td>\n",
       "      <td>22.000000</td>\n",
       "    </tr>\n",
       "  </tbody>\n",
       "</table>\n",
       "</div>"
      ],
      "text/plain": [
       "           word_len  phonemes_len\n",
       "count  65318.000000  65318.000000\n",
       "mean       7.914189      7.372838\n",
       "std        2.590464      2.443116\n",
       "min        1.000000      1.000000\n",
       "25%        6.000000      6.000000\n",
       "50%        8.000000      7.000000\n",
       "75%       10.000000      9.000000\n",
       "max       23.000000     22.000000"
      ]
     },
     "execution_count": 15,
     "metadata": {},
     "output_type": "execute_result"
    }
   ],
   "source": [
    "(\n",
    "    df\n",
    "    .assign(word_len = df.words.apply(len), phonemes_len = df.phonemes.apply(len))\n",
    "    .describe()\n",
    ")"
   ]
  },
  {
   "cell_type": "markdown",
   "metadata": {},
   "source": [
    "## Descrição LAPS"
   ]
  },
  {
   "cell_type": "markdown",
   "metadata": {
    "heading_collapsed": true
   },
   "source": [
    "### Apenas Texto"
   ]
  },
  {
   "cell_type": "code",
   "execution_count": 21,
   "metadata": {
    "ExecuteTime": {
     "end_time": "2019-02-25T17:19:48.674581Z",
     "start_time": "2019-02-25T17:19:48.585417Z"
    },
    "hidden": true
   },
   "outputs": [],
   "source": [
    "import glob, os\n",
    "from io import StringIO\n",
    "import collections\n",
    "myBigString = \"\"\n",
    "for file in glob.glob(\"../data/external/constituicaoBR/*.txt\", recursive=True):\n",
    "    myBigString += open(file).read() + ' '\n",
    "t = collections.Counter(np.array(myBigString.split()))\n",
    "del myBigString #save memory\n",
    "df = pd.DataFrame(list(zip(t.keys(), t.values())), columns=['words', 'ocorrencias'])"
   ]
  },
  {
   "cell_type": "code",
   "execution_count": 24,
   "metadata": {
    "ExecuteTime": {
     "end_time": "2019-02-25T17:20:43.592855Z",
     "start_time": "2019-02-25T17:20:43.575518Z"
    },
    "hidden": true,
    "scrolled": false
   },
   "outputs": [
    {
     "data": {
      "text/html": [
       "<div>\n",
       "<style scoped>\n",
       "    .dataframe tbody tr th:only-of-type {\n",
       "        vertical-align: middle;\n",
       "    }\n",
       "\n",
       "    .dataframe tbody tr th {\n",
       "        vertical-align: top;\n",
       "    }\n",
       "\n",
       "    .dataframe thead th {\n",
       "        text-align: right;\n",
       "    }\n",
       "</style>\n",
       "<table border=\"1\" class=\"dataframe\">\n",
       "  <thead>\n",
       "    <tr style=\"text-align: right;\">\n",
       "      <th></th>\n",
       "      <th>ocorrencias</th>\n",
       "      <th>word_len</th>\n",
       "    </tr>\n",
       "  </thead>\n",
       "  <tbody>\n",
       "    <tr>\n",
       "      <th>count</th>\n",
       "      <td>5329.000000</td>\n",
       "      <td>5329.00000</td>\n",
       "    </tr>\n",
       "    <tr>\n",
       "      <th>mean</th>\n",
       "      <td>13.099456</td>\n",
       "      <td>8.70107</td>\n",
       "    </tr>\n",
       "    <tr>\n",
       "      <th>std</th>\n",
       "      <td>102.709031</td>\n",
       "      <td>2.73274</td>\n",
       "    </tr>\n",
       "    <tr>\n",
       "      <th>min</th>\n",
       "      <td>1.000000</td>\n",
       "      <td>1.00000</td>\n",
       "    </tr>\n",
       "    <tr>\n",
       "      <th>25%</th>\n",
       "      <td>1.000000</td>\n",
       "      <td>7.00000</td>\n",
       "    </tr>\n",
       "    <tr>\n",
       "      <th>50%</th>\n",
       "      <td>2.000000</td>\n",
       "      <td>9.00000</td>\n",
       "    </tr>\n",
       "    <tr>\n",
       "      <th>75%</th>\n",
       "      <td>5.000000</td>\n",
       "      <td>10.00000</td>\n",
       "    </tr>\n",
       "    <tr>\n",
       "      <th>max</th>\n",
       "      <td>4412.000000</td>\n",
       "      <td>21.00000</td>\n",
       "    </tr>\n",
       "  </tbody>\n",
       "</table>\n",
       "</div>"
      ],
      "text/plain": [
       "       ocorrencias    word_len\n",
       "count  5329.000000  5329.00000\n",
       "mean     13.099456     8.70107\n",
       "std     102.709031     2.73274\n",
       "min       1.000000     1.00000\n",
       "25%       1.000000     7.00000\n",
       "50%       2.000000     9.00000\n",
       "75%       5.000000    10.00000\n",
       "max    4412.000000    21.00000"
      ]
     },
     "execution_count": 24,
     "metadata": {},
     "output_type": "execute_result"
    }
   ],
   "source": [
    "(\n",
    "    df\n",
    "    .assign(word_len = df.words.apply(len))\n",
    "    .describe()\n",
    ")"
   ]
  },
  {
   "cell_type": "markdown",
   "metadata": {
    "heading_collapsed": true
   },
   "source": [
    "### Apenas Áudio"
   ]
  },
  {
   "cell_type": "code",
   "execution_count": 29,
   "metadata": {
    "ExecuteTime": {
     "end_time": "2019-02-25T17:26:14.229099Z",
     "start_time": "2019-02-25T17:26:14.166036Z"
    },
    "hidden": true
   },
   "outputs": [],
   "source": [
    "import librosa\n",
    "lenghts = []\n",
    "for file in glob.glob(\"../data/external/constituicaoBR/*.wav\", recursive=True):\n",
    "    lenghts.append(librosa.get_duration(filename=file))\n",
    "df = pd.DataFrame(lenghts, columns=['lenghts'])"
   ]
  },
  {
   "cell_type": "code",
   "execution_count": 30,
   "metadata": {
    "ExecuteTime": {
     "end_time": "2019-02-25T17:26:22.766462Z",
     "start_time": "2019-02-25T17:26:22.751980Z"
    },
    "hidden": true,
    "scrolled": true
   },
   "outputs": [
    {
     "data": {
      "text/html": [
       "<div>\n",
       "<style scoped>\n",
       "    .dataframe tbody tr th:only-of-type {\n",
       "        vertical-align: middle;\n",
       "    }\n",
       "\n",
       "    .dataframe tbody tr th {\n",
       "        vertical-align: top;\n",
       "    }\n",
       "\n",
       "    .dataframe thead th {\n",
       "        text-align: right;\n",
       "    }\n",
       "</style>\n",
       "<table border=\"1\" class=\"dataframe\">\n",
       "  <thead>\n",
       "    <tr style=\"text-align: right;\">\n",
       "      <th></th>\n",
       "      <th>lenghts</th>\n",
       "    </tr>\n",
       "  </thead>\n",
       "  <tbody>\n",
       "    <tr>\n",
       "      <th>count</th>\n",
       "      <td>1255.000000</td>\n",
       "    </tr>\n",
       "    <tr>\n",
       "      <th>mean</th>\n",
       "      <td>25.738601</td>\n",
       "    </tr>\n",
       "    <tr>\n",
       "      <th>std</th>\n",
       "      <td>5.989798</td>\n",
       "    </tr>\n",
       "    <tr>\n",
       "      <th>min</th>\n",
       "      <td>3.353878</td>\n",
       "    </tr>\n",
       "    <tr>\n",
       "      <th>25%</th>\n",
       "      <td>22.568095</td>\n",
       "    </tr>\n",
       "    <tr>\n",
       "      <th>50%</th>\n",
       "      <td>26.781995</td>\n",
       "    </tr>\n",
       "    <tr>\n",
       "      <th>75%</th>\n",
       "      <td>29.940998</td>\n",
       "    </tr>\n",
       "    <tr>\n",
       "      <th>max</th>\n",
       "      <td>42.579592</td>\n",
       "    </tr>\n",
       "  </tbody>\n",
       "</table>\n",
       "</div>"
      ],
      "text/plain": [
       "           lenghts\n",
       "count  1255.000000\n",
       "mean     25.738601\n",
       "std       5.989798\n",
       "min       3.353878\n",
       "25%      22.568095\n",
       "50%      26.781995\n",
       "75%      29.940998\n",
       "max      42.579592"
      ]
     },
     "execution_count": 30,
     "metadata": {},
     "output_type": "execute_result"
    }
   ],
   "source": [
    "(\n",
    "    df\n",
    "    .describe()\n",
    ")"
   ]
  },
  {
   "cell_type": "markdown",
   "metadata": {},
   "source": [
    "### Texto e Áudio"
   ]
  },
  {
   "cell_type": "code",
   "execution_count": 35,
   "metadata": {
    "ExecuteTime": {
     "end_time": "2019-02-25T17:31:38.445543Z",
     "start_time": "2019-02-25T17:31:38.429970Z"
    }
   },
   "outputs": [
    {
     "data": {
      "text/html": [
       "<div>\n",
       "<style scoped>\n",
       "    .dataframe tbody tr th:only-of-type {\n",
       "        vertical-align: middle;\n",
       "    }\n",
       "\n",
       "    .dataframe tbody tr th {\n",
       "        vertical-align: top;\n",
       "    }\n",
       "\n",
       "    .dataframe thead th {\n",
       "        text-align: right;\n",
       "    }\n",
       "</style>\n",
       "<table border=\"1\" class=\"dataframe\">\n",
       "  <thead>\n",
       "    <tr style=\"text-align: right;\">\n",
       "      <th></th>\n",
       "      <th>filename</th>\n",
       "      <th>text</th>\n",
       "      <th>lenght</th>\n",
       "    </tr>\n",
       "  </thead>\n",
       "  <tbody>\n",
       "    <tr>\n",
       "      <th>0</th>\n",
       "      <td>dt058a</td>\n",
       "      <td>artigo cinquenta e oito os benefícios de pres...</td>\n",
       "      <td>27.886984</td>\n",
       "    </tr>\n",
       "    <tr>\n",
       "      <th>1</th>\n",
       "      <td>art231b</td>\n",
       "      <td>são terras tradicionalmente ocupadas pelos ín...</td>\n",
       "      <td>23.276009</td>\n",
       "    </tr>\n",
       "    <tr>\n",
       "      <th>2</th>\n",
       "      <td>art105i</td>\n",
       "      <td>parágrafo único funcionarão junto ao superior...</td>\n",
       "      <td>33.867982</td>\n",
       "    </tr>\n",
       "    <tr>\n",
       "      <th>3</th>\n",
       "      <td>art022g</td>\n",
       "      <td>inciso vinte e dois competência da polícia fe...</td>\n",
       "      <td>22.789025</td>\n",
       "    </tr>\n",
       "    <tr>\n",
       "      <th>4</th>\n",
       "      <td>art103-d</td>\n",
       "      <td>será dada ciência ao poder competente para a ...</td>\n",
       "      <td>30.537143</td>\n",
       "    </tr>\n",
       "  </tbody>\n",
       "</table>\n",
       "</div>"
      ],
      "text/plain": [
       "   filename                                               text     lenght\n",
       "0    dt058a   artigo cinquenta e oito os benefícios de pres...  27.886984\n",
       "1   art231b   são terras tradicionalmente ocupadas pelos ín...  23.276009\n",
       "2   art105i   parágrafo único funcionarão junto ao superior...  33.867982\n",
       "3   art022g   inciso vinte e dois competência da polícia fe...  22.789025\n",
       "4  art103-d   será dada ciência ao poder competente para a ...  30.537143"
      ]
     },
     "execution_count": 35,
     "metadata": {},
     "output_type": "execute_result"
    }
   ],
   "source": [
    "todos = []\n",
    "for file in glob.glob(\"../data/external/constituicaoBR/*.txt\", recursive=True)[:10]:\n",
    "    todos.append([file[32:-4], open(file).read(), librosa.get_duration(filename=file[:-4]+'.wav')])\n",
    "df = pd.DataFrame(todos, columns=['filename', 'text', 'lenght'])\n",
    "df.head()"
   ]
  },
  {
   "cell_type": "code",
   "execution_count": 95,
   "metadata": {
    "ExecuteTime": {
     "end_time": "2019-02-25T18:26:27.294300Z",
     "start_time": "2019-02-25T18:26:27.284130Z"
    },
    "scrolled": false
   },
   "outputs": [],
   "source": [
    "import scipy\n",
    "df = (df\n",
    "    .assign(word_sep=df.text.str.split().apply(lambda x : [len(y) for y in x]).apply(scipy.stats.describe).apply(list))\n",
    ")"
   ]
  },
  {
   "cell_type": "code",
   "execution_count": 104,
   "metadata": {
    "ExecuteTime": {
     "end_time": "2019-02-25T18:41:00.274289Z",
     "start_time": "2019-02-25T18:41:00.252752Z"
    }
   },
   "outputs": [
    {
     "data": {
      "text/html": [
       "<div>\n",
       "<style scoped>\n",
       "    .dataframe tbody tr th:only-of-type {\n",
       "        vertical-align: middle;\n",
       "    }\n",
       "\n",
       "    .dataframe tbody tr th {\n",
       "        vertical-align: top;\n",
       "    }\n",
       "\n",
       "    .dataframe thead th {\n",
       "        text-align: right;\n",
       "    }\n",
       "</style>\n",
       "<table border=\"1\" class=\"dataframe\">\n",
       "  <thead>\n",
       "    <tr style=\"text-align: right;\">\n",
       "      <th></th>\n",
       "      <th>lenght</th>\n",
       "      <th>total_palavras</th>\n",
       "      <th>pps</th>\n",
       "      <th>avg_palavras</th>\n",
       "      <th>std_palavras</th>\n",
       "    </tr>\n",
       "  </thead>\n",
       "  <tbody>\n",
       "    <tr>\n",
       "      <th>mean</th>\n",
       "      <td>28.797374</td>\n",
       "      <td>60.700000</td>\n",
       "      <td>2.112487</td>\n",
       "      <td>5.405661</td>\n",
       "      <td>12.013307</td>\n",
       "    </tr>\n",
       "    <tr>\n",
       "      <th>std</th>\n",
       "      <td>6.166879</td>\n",
       "      <td>16.138635</td>\n",
       "      <td>0.405732</td>\n",
       "      <td>0.431429</td>\n",
       "      <td>2.322666</td>\n",
       "    </tr>\n",
       "    <tr>\n",
       "      <th>sum</th>\n",
       "      <td>287.973741</td>\n",
       "      <td>NaN</td>\n",
       "      <td>NaN</td>\n",
       "      <td>NaN</td>\n",
       "      <td>NaN</td>\n",
       "    </tr>\n",
       "  </tbody>\n",
       "</table>\n",
       "</div>"
      ],
      "text/plain": [
       "          lenght  total_palavras       pps  avg_palavras  std_palavras\n",
       "mean   28.797374       60.700000  2.112487      5.405661     12.013307\n",
       "std     6.166879       16.138635  0.405732      0.431429      2.322666\n",
       "sum   287.973741             NaN       NaN           NaN           NaN"
      ]
     },
     "execution_count": 104,
     "metadata": {},
     "output_type": "execute_result"
    }
   ],
   "source": [
    "(\n",
    "    df\n",
    "    .assign(pps=df.word_sep.apply(lambda x : x[0])/df.lenght, \n",
    "           avg_palavras=df.word_sep.apply(lambda x : x[2]),\n",
    "           std_palavras=df.word_sep.apply(lambda x : x[3]),\n",
    "           total_palavras=df.word_sep.apply(lambda x : x[0]))\n",
    "    .apply({\n",
    "        'lenght':[np.sum, np.mean, np.std],\n",
    "        'total_palavras':[np.mean, np.std],\n",
    "        'pps': [np.mean, np.std],\n",
    "        'avg_palavras':[np.mean, np.std],\n",
    "        'std_palavras':[np.mean, np.std]\n",
    "    })\n",
    ")"
   ]
  },
  {
   "cell_type": "markdown",
   "metadata": {},
   "source": [
    "## Descrição do Cellbit"
   ]
  },
  {
   "cell_type": "code",
   "execution_count": 9,
   "metadata": {
    "ExecuteTime": {
     "end_time": "2019-02-28T07:00:18.844932Z",
     "start_time": "2019-02-28T06:58:14.829265Z"
    }
   },
   "outputs": [
    {
     "data": {
      "text/html": [
       "<div>\n",
       "<style scoped>\n",
       "    .dataframe tbody tr th:only-of-type {\n",
       "        vertical-align: middle;\n",
       "    }\n",
       "\n",
       "    .dataframe tbody tr th {\n",
       "        vertical-align: top;\n",
       "    }\n",
       "\n",
       "    .dataframe thead th {\n",
       "        text-align: right;\n",
       "    }\n",
       "</style>\n",
       "<table border=\"1\" class=\"dataframe\">\n",
       "  <thead>\n",
       "    <tr style=\"text-align: right;\">\n",
       "      <th></th>\n",
       "      <th>filename</th>\n",
       "      <th>lenght</th>\n",
       "    </tr>\n",
       "  </thead>\n",
       "  <tbody>\n",
       "    <tr>\n",
       "      <th>0</th>\n",
       "      <td>013_00093</td>\n",
       "      <td>3.54</td>\n",
       "    </tr>\n",
       "    <tr>\n",
       "      <th>1</th>\n",
       "      <td>011_00124</td>\n",
       "      <td>2.00</td>\n",
       "    </tr>\n",
       "    <tr>\n",
       "      <th>2</th>\n",
       "      <td>001_00232</td>\n",
       "      <td>1.98</td>\n",
       "    </tr>\n",
       "    <tr>\n",
       "      <th>3</th>\n",
       "      <td>019_00033</td>\n",
       "      <td>2.18</td>\n",
       "    </tr>\n",
       "    <tr>\n",
       "      <th>4</th>\n",
       "      <td>020_00036</td>\n",
       "      <td>1.54</td>\n",
       "    </tr>\n",
       "  </tbody>\n",
       "</table>\n",
       "</div>"
      ],
      "text/plain": [
       "    filename  lenght\n",
       "0  013_00093    3.54\n",
       "1  011_00124    2.00\n",
       "2  001_00232    1.98\n",
       "3  019_00033    2.18\n",
       "4  020_00036    1.54"
      ]
     },
     "execution_count": 9,
     "metadata": {},
     "output_type": "execute_result"
    }
   ],
   "source": [
    "import pysrt\n",
    "import glob, os\n",
    "import pandas as pd\n",
    "import librosa\n",
    "todos = []\n",
    "for file in glob.glob(\"../data/external/Cellbit/wavs/*.wav\", recursive=True):\n",
    "    todos.append([file[32:-4], librosa.get_duration(filename=file)])\n",
    "df = pd.DataFrame(todos, columns=['filename', 'lenght'])\n",
    "df.head()"
   ]
  },
  {
   "cell_type": "code",
   "execution_count": 10,
   "metadata": {
    "ExecuteTime": {
     "end_time": "2019-02-28T07:00:18.852588Z",
     "start_time": "2019-02-28T07:00:18.847919Z"
    }
   },
   "outputs": [
    {
     "data": {
      "text/plain": [
       "2.8799794662348326"
      ]
     },
     "execution_count": 10,
     "metadata": {},
     "output_type": "execute_result"
    }
   ],
   "source": [
    "df.lenght.mean()"
   ]
  },
  {
   "cell_type": "code",
   "execution_count": 11,
   "metadata": {
    "ExecuteTime": {
     "end_time": "2019-02-28T07:00:57.650685Z",
     "start_time": "2019-02-28T07:00:57.646630Z"
    }
   },
   "outputs": [
    {
     "data": {
      "text/plain": [
       "4.189267680072042"
      ]
     },
     "execution_count": 11,
     "metadata": {},
     "output_type": "execute_result"
    }
   ],
   "source": [
    "df.lenght.std()"
   ]
  },
  {
   "cell_type": "code",
   "execution_count": null,
   "metadata": {},
   "outputs": [],
   "source": []
  },
  {
   "cell_type": "code",
   "execution_count": null,
   "metadata": {},
   "outputs": [],
   "source": []
  }
 ],
 "metadata": {
  "kernelspec": {
   "display_name": "python3",
   "language": "python",
   "name": "python3"
  },
  "language_info": {
   "codemirror_mode": {
    "name": "ipython",
    "version": 3
   },
   "file_extension": ".py",
   "mimetype": "text/x-python",
   "name": "python",
   "nbconvert_exporter": "python",
   "pygments_lexer": "ipython3",
   "version": "3.6.7"
  }
 },
 "nbformat": 4,
 "nbformat_minor": 2
}
